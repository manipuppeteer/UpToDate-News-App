{
 "cells": [
  {
   "cell_type": "code",
   "id": "initial_id",
   "metadata": {
    "collapsed": true,
    "ExecuteTime": {
     "end_time": "2025-08-11T19:23:10.412218Z",
     "start_time": "2025-08-11T19:22:49.976691Z"
    }
   },
   "source": [
    "# kurze Erklärung im Allgemeinen:\n",
    "# Request-Response-Modell: X sendet eine Anfrage (Request), der Server antwortet mit einer Antwort (Response).\n",
    "# HTTP-Methoden sind wie verschiedene Arten von Datenübertragungen, die du an einen Server schickst, um ihm zu sagen, was er tun soll – z. B. GET (hol mir was),\n",
    "# POST (nimm das und speicher’s), PUT (tausch’s komplett aus), PATCH (ändere nur ein Stück) oder DELETE (wirf’s weg).\n",
    "\n",
    "import requests\n",
    "# Holt die 'requests'= Anfragen aus der'Bibiothek'\n",
    "API_KEY = 'ecb9e858a7fb47a6aa7b33d668c1ba6e'\n",
    "# Passwort für den News-Service; ohne Schlüssel ( lange Zahl ) keine Daten oder auch die 'Zugangskarte'\n",
    "url = 'https://newsapi.org/v2/top-headlines'\n",
    "# Ist die Internet-Adresse, wo wir was abfragen; daher kommen die Infos (Top Headlines)\n",
    "categories = [\"business\", \"entertainment\", \"general\", \"health\", \"science\", \"sports\", \"technology\"]\n",
    "# Unsere Kategorien als Variable in einer Liste []\n",
    "#\n",
    "#\n",
    "print(\"News from around the wolrd\")\n",
    "# Erste Ausgabe : z.B Begrüßung\n",
    "country = input(\"Enter the country --> country code, e.g. ‘us’ for the US, ‘de’ for Germany): \").lower()\n",
    "# Variable u. Nutzereingabe / .alles klein geschrieben/umwandeln\n",
    "print(\"\\nAvailable categories:\", \", \".join(categories))\n",
    "# Zweite Ausgabe : \\n -> Zeilenumbruch; Auflistung unserer Kategorien; .join -> verbindet Element mit Objekt\n",
    "category = input(\"Select a category. The following categories are available:\\n business, entertainment, general,\\n health, science, sports, technology\").lower()\n",
    "# Variable u. Nutzereingabe / ...(siehe Zeile 18)\n",
    "keyword = input(\"Enter a keyword for the search\").strip()\n",
    "# → Variable/Nutzereingabe :Fragt 'Stichwort' ab. .strip() entfernt führende und folgende Leerzeichen (z. B. wenn Nutzer nur „ Enter “ drückt, wird es zu \"\").\n",
    "if category not in categories:\n",
    "# 'if...'not'..in ->  Prüft, ob die eingegebene Kategorie in unserer erlaubten Liste ist\n",
    "    print(\"Invalid category. Please select another.\")\n",
    "    # Falls Kategorie ungültig ist, erscheint eine Fehlermeldung bzw. Ausgabe\n",
    "else:\n",
    "# Doch, wenn sie gültig ist, führe folgenden Block aus\n",
    "    params = {\n",
    "        'country': country,\n",
    "        'category': category,\n",
    "        'apiKey': API_KEY}\n",
    "    # Baut ein Dictornary mit 'params' als Parameter, welches an 'API' übergeben wird\n",
    "    if keyword:\n",
    "    # Wenn aber das 'Stichwort'..; vorhanden ist; wird es verwendet\n",
    "        params['q'] = keyword\n",
    "        # params fügt den 'Schlüssel' [q] hinzu -> steht für (Parameter für textbasierte Suche)\n",
    "    response = requests.get(url, params=params)\n",
    "    # Sendet eine 'hol mir etwas'-Anfrage an url mit den Parameter params. Die Antwort wird in response (Variable)gespeichert.\n",
    "    if response.status_code == 200:\n",
    "    # Prüft ob der 'Code' 200 =  ist dieser erfolgreich → Ergebnisse werden angezeigt\n",
    "        data = response.json()\n",
    "        # Neue Variable = durch [.json] wird 'reponse' in ein Dictornary umgewandelt\n",
    "        articles = data.get('articles', [])\n",
    "        # Variable wird durch [data.get()] zurückgegeben.\n",
    "        # [.get()] wird verwendet, um den Wert des 'Schlüssels' ->articles<- aus dem data ( Wörterbuch) abzurufen\n",
    "        # Sollte er nicht existieren; gibt ne leere Liste zurück\n",
    "        if articles:\n",
    "        # Prüft die Liste und zeigt an mit -> print\n",
    "            print(f\"\\n Top {category.capitalize()} Headlines aus '{country.upper()}':\\n\")\n",
    "            # .upper -> zeigt die {} in Großbuchstaben am Anfang an\n",
    "            for i, article in enumerate(articles[:5], 1):  # i -> beginnt mit 1\n",
    "            # for..i...in -> Schleife über ersten 5 Artikeln ,\n",
    "            # .enumerate -> liefert eine zusätzlich laufende Zahl\n",
    "                print(f\"{i}. {article['title']}\")\n",
    "                # Gibt die Nummer u. den Titel des Artikel raus\n",
    "                print(f\"   Quelle: {article['source']['name']}\")\n",
    "                # [source] -> Unter-Dictornary u. gibt den Namen aus der Quelle\n",
    "                print(f\"   URL: {article['url']}\\n\")\n",
    "                # Gibt den 'Link' der url raus\n",
    "        else:\n",
    "            print(\"No items found. Try another country or category.\")\n",
    "        # Ausgabe - wird ausgeführt, wenn Artikel leer war\n",
    "    else:\n",
    "    # Ausgabe - wird ausgeführt, wenn der 'Code=200' falsch war\n",
    "        print(\"Error retrieving messages:\", response.status_code)\n"
   ],
   "outputs": [
    {
     "name": "stdout",
     "output_type": "stream",
     "text": [
      "News from around the wolrd\n",
      "\n",
      "Available categories: business, entertainment, general, health, science, sports, technology\n",
      "No items found. Try another country or category.\n"
     ]
    }
   ],
   "execution_count": 3
  }
 ],
 "metadata": {
  "kernelspec": {
   "display_name": "Python 3",
   "language": "python",
   "name": "python3"
  },
  "language_info": {
   "codemirror_mode": {
    "name": "ipython",
    "version": 2
   },
   "file_extension": ".py",
   "mimetype": "text/x-python",
   "name": "python",
   "nbconvert_exporter": "python",
   "pygments_lexer": "ipython2",
   "version": "2.7.6"
  }
 },
 "nbformat": 4,
 "nbformat_minor": 5
}

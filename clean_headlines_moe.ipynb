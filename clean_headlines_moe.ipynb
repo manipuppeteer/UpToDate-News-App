{
 "cells": [
  {
   "metadata": {
    "ExecuteTime": {
     "end_time": "2025-08-13T10:17:52.826427Z",
     "start_time": "2025-08-13T10:17:52.815005Z"
    }
   },
   "cell_type": "code",
   "source": [
    "headline = '$%&1Man is    dead$'\n",
    "print(headline)"
   ],
   "id": "e5b17582771f5fb7",
   "outputs": [
    {
     "name": "stdout",
     "output_type": "stream",
     "text": [
      "$%&1Man is    dead$\n"
     ]
    }
   ],
   "execution_count": 61
  },
  {
   "metadata": {
    "collapsed": true,
    "ExecuteTime": {
     "end_time": "2025-08-13T10:17:54.886320Z",
     "start_time": "2025-08-13T10:17:54.880109Z"
    }
   },
   "cell_type": "code",
   "source": [
    "# überflüssige Leerzeichen:\n",
    "\n",
    "headline.strip()"
   ],
   "id": "initial_id",
   "outputs": [
    {
     "data": {
      "text/plain": [
       "'$%&1Man is    dead$'"
      ]
     },
     "execution_count": 62,
     "metadata": {},
     "output_type": "execute_result"
    }
   ],
   "execution_count": 62
  },
  {
   "metadata": {
    "ExecuteTime": {
     "end_time": "2025-08-13T09:41:23.248986Z",
     "start_time": "2025-08-13T09:41:23.242901Z"
    }
   },
   "cell_type": "code",
   "source": [
    "# zusammenführen und mit nur einem Leerzeichen trennen:\n",
    "headline_2 = ' '.join(headline.split())\n",
    "headline_2"
   ],
   "id": "7d7b96a898df5a0c",
   "outputs": [
    {
     "data": {
      "text/plain": [
       "'$%&1Man is dead'"
      ]
     },
     "execution_count": 34,
     "metadata": {},
     "output_type": "execute_result"
    }
   ],
   "execution_count": 34
  },
  {
   "metadata": {
    "ExecuteTime": {
     "end_time": "2025-08-13T13:25:26.466766Z",
     "start_time": "2025-08-13T13:25:26.440032Z"
    }
   },
   "cell_type": "code",
   "source": [
    "# wenn headline nicht mit einem Alphanumerischen Zeichen beginnt:\n",
    "\n",
    "def clean_headline(headline):\n",
    "        headline = headline.strip()\n",
    "        headline = ' '.join(headline.split())\n",
    "                                                                 #  headline = headline.replace(headline[0], '')  #\n",
    "        headline = ' '.join(\n",
    "                headline.split())                               # Replace multiple spaces with a single space\n",
    "        headline = headline.removeprefix('$')\n",
    "        headline = headline.removeprefix('%')\n",
    "        headline = headline.removeprefix('&')\n",
    "        headline = headline.removeprefix('1')\n",
    "        headline = headline.removesuffix('$')\n",
    "        headline = headline.ljust(0)\n",
    "        return headline\n",
    "\n",
    "\n",
    "headline = '$%&1Man is    dead$'\n",
    "clean_headline(headline)\n"
   ],
   "id": "1f56c599b740bd89",
   "outputs": [
    {
     "data": {
      "text/plain": [
       "'Man is dead'"
      ]
     },
     "execution_count": 94,
     "metadata": {},
     "output_type": "execute_result"
    }
   ],
   "execution_count": 94
  },
  {
   "metadata": {
    "ExecuteTime": {
     "end_time": "2025-08-13T09:47:32.070857Z",
     "start_time": "2025-08-13T09:47:32.065707Z"
    }
   },
   "cell_type": "code",
   "source": [
    "# Groß-/ Kleinschreibung:\n",
    "\n",
    "headline.capitalize()\n"
   ],
   "id": "273cf5dabde487a3",
   "outputs": [
    {
     "data": {
      "text/plain": [
       "'$%&1man is    dead'"
      ]
     },
     "execution_count": 39,
     "metadata": {},
     "output_type": "execute_result"
    }
   ],
   "execution_count": 39
  },
  {
   "metadata": {
    "ExecuteTime": {
     "end_time": "2025-08-13T10:10:15.711716Z",
     "start_time": "2025-08-13T10:10:15.704969Z"
    }
   },
   "cell_type": "code",
   "source": [
    "# überflüssige Suffixe/ Präfixe\n",
    "\n",
    "headline.removeprefix('$')"
   ],
   "id": "bfcf48be182a45fa",
   "outputs": [
    {
     "data": {
      "text/plain": [
       "'%&1Man is    dead'"
      ]
     },
     "execution_count": 59,
     "metadata": {},
     "output_type": "execute_result"
    }
   ],
   "execution_count": 59
  },
  {
   "metadata": {
    "ExecuteTime": {
     "end_time": "2025-08-13T09:53:23.377594Z",
     "start_time": "2025-08-13T09:53:23.369649Z"
    }
   },
   "cell_type": "code",
   "source": [
    "# oder:\n",
    "headline.replace('$' '%' '&' '1', '')"
   ],
   "id": "29cdf0926b1c633a",
   "outputs": [
    {
     "data": {
      "text/plain": [
       "'Man is    dead'"
      ]
     },
     "execution_count": 43,
     "metadata": {},
     "output_type": "execute_result"
    }
   ],
   "execution_count": 43
  },
  {
   "metadata": {
    "ExecuteTime": {
     "end_time": "2025-08-13T10:02:43.555528Z",
     "start_time": "2025-08-13T10:02:43.549263Z"
    }
   },
   "cell_type": "code",
   "source": [
    "# überflüssige Leerzeichen:\n",
    "\n",
    "' '.join(headline.split())"
   ],
   "id": "5960ad36752b765a",
   "outputs": [
    {
     "data": {
      "text/plain": [
       "'$%&1Man is dead'"
      ]
     },
     "execution_count": 54,
     "metadata": {},
     "output_type": "execute_result"
    }
   ],
   "execution_count": 54
  }
 ],
 "metadata": {
  "kernelspec": {
   "display_name": "Python 3",
   "language": "python",
   "name": "python3"
  },
  "language_info": {
   "codemirror_mode": {
    "name": "ipython",
    "version": 2
   },
   "file_extension": ".py",
   "mimetype": "text/x-python",
   "name": "python",
   "nbconvert_exporter": "python",
   "pygments_lexer": "ipython2",
   "version": "2.7.6"
  }
 },
 "nbformat": 4,
 "nbformat_minor": 5
}

{
 "cells": [
  {
   "cell_type": "code",
   "execution_count": 61,
   "id": "e5b17582771f5fb7",
   "metadata": {
    "ExecuteTime": {
     "end_time": "2025-08-13T10:17:52.826427Z",
     "start_time": "2025-08-13T10:17:52.815005Z"
    }
   },
   "outputs": [
    {
     "name": "stdout",
     "output_type": "stream",
     "text": [
      "$%&1Man is    dead$\n"
     ]
    }
   ],
   "source": [
    "headline = '$%&1Man is    dead$'\n",
    "print(headline)"
   ]
  },
  {
   "cell_type": "code",
   "execution_count": 62,
   "id": "initial_id",
   "metadata": {
    "ExecuteTime": {
     "end_time": "2025-08-13T10:17:54.886320Z",
     "start_time": "2025-08-13T10:17:54.880109Z"
    },
    "collapsed": true
   },
   "outputs": [
    {
     "data": {
      "text/plain": [
       "'$%&1Man is    dead$'"
      ]
     },
     "execution_count": 62,
     "metadata": {},
     "output_type": "execute_result"
    }
   ],
   "source": [
    "# überflüssige Leerzeichen:\n",
    "\n",
    "headline.strip()"
   ]
  },
  {
   "cell_type": "code",
   "execution_count": 34,
   "id": "7d7b96a898df5a0c",
   "metadata": {
    "ExecuteTime": {
     "end_time": "2025-08-13T09:41:23.248986Z",
     "start_time": "2025-08-13T09:41:23.242901Z"
    }
   },
   "outputs": [
    {
     "data": {
      "text/plain": [
       "'$%&1Man is dead'"
      ]
     },
     "execution_count": 34,
     "metadata": {},
     "output_type": "execute_result"
    }
   ],
   "source": [
    "# zusammenführen und mit nur einem Leerzeichen trennen:\n",
    "headline_2 = ' '.join(headline.split())\n",
    "headline_2"
   ]
  },
  {
   "cell_type": "code",
   "id": "1f56c599b740bd89",
   "metadata": {
    "ExecuteTime": {
     "end_time": "2025-08-14T13:43:18.819624Z",
     "start_time": "2025-08-14T13:43:18.810557Z"
    }
   },
   "source": [
    "# wenn headline nicht mit einem Alphanumerischen Zeichen beginnt:\n",
    "\n",
    "def clean_headline(headline):\n",
    "        headline = headline.strip()\n",
    "        headline = ' '.join(headline.split())\n",
    "                                                                 #  headline = headline.replace(headline[0], '')  #\n",
    "        headline = ' '.join(\n",
    "                headline.split())                               # Replace multiple spaces with a single space\n",
    "        # headline = headline.removeprefix('$')\n",
    "        # headline = headline.removeprefix('%')\n",
    "        # headline = headline.removeprefix('&')\n",
    "        # headline = headline.removeprefix('1')\n",
    "        # headline = headline.removesuffix('$')\n",
    "        for x in '$%&123456789':\n",
    "            headline = headline.removeprefix(x)\n",
    "            headline = headline.removesuffix(x)\n",
    "\n",
    "        headline_x = headline.rsplit()\n",
    "        headline_xx = [wort.capitalize() for wort in headline_x]\n",
    "        headline_xx = ' '.join(headline_xx)\n",
    "\n",
    "        print(headline_xx)\n",
    "\n",
    "clean_headline(headline)"
   ],
   "outputs": [
    {
     "name": "stdout",
     "output_type": "stream",
     "text": [
      "Man Is Dead\n"
     ]
    }
   ],
   "execution_count": 70
  },
  {
   "metadata": {},
   "cell_type": "code",
   "outputs": [],
   "execution_count": null,
   "source": [
    "headline = '$%&1Man is    dead$'\n",
    "clean_headline(headline)\n",
    "  headline = headline.ljust(0)\n",
    "        return headline"
   ],
   "id": "ffdf1451626e5bb7"
  },
  {
   "cell_type": "code",
   "id": "273cf5dabde487a3",
   "metadata": {
    "ExecuteTime": {
     "end_time": "2025-08-14T11:54:01.785787Z",
     "start_time": "2025-08-14T11:54:01.769401Z"
    }
   },
   "source": [
    "# Groß-/ Kleinschreibung:\n",
    "\n",
    "headline.capitalize()\n"
   ],
   "outputs": [
    {
     "data": {
      "text/plain": [
       "'$%&1man is    dead$'"
      ]
     },
     "execution_count": 18,
     "metadata": {},
     "output_type": "execute_result"
    }
   ],
   "execution_count": 18
  },
  {
   "cell_type": "code",
   "execution_count": 59,
   "id": "bfcf48be182a45fa",
   "metadata": {
    "ExecuteTime": {
     "end_time": "2025-08-13T10:10:15.711716Z",
     "start_time": "2025-08-13T10:10:15.704969Z"
    }
   },
   "outputs": [
    {
     "data": {
      "text/plain": [
       "'%&1Man is    dead'"
      ]
     },
     "execution_count": 59,
     "metadata": {},
     "output_type": "execute_result"
    }
   ],
   "source": [
    "# überflüssige Suffixe/ Präfixe\n",
    "\n",
    "headline.removeprefix('$')"
   ]
  },
  {
   "cell_type": "code",
   "execution_count": 43,
   "id": "29cdf0926b1c633a",
   "metadata": {
    "ExecuteTime": {
     "end_time": "2025-08-13T09:53:23.377594Z",
     "start_time": "2025-08-13T09:53:23.369649Z"
    }
   },
   "outputs": [
    {
     "data": {
      "text/plain": [
       "'Man is    dead'"
      ]
     },
     "execution_count": 43,
     "metadata": {},
     "output_type": "execute_result"
    }
   ],
   "source": [
    "# oder:\n",
    "headline.replace('$' '%' '&' '1', '')"
   ]
  },
  {
   "cell_type": "code",
   "execution_count": 54,
   "id": "5960ad36752b765a",
   "metadata": {
    "ExecuteTime": {
     "end_time": "2025-08-13T10:02:43.555528Z",
     "start_time": "2025-08-13T10:02:43.549263Z"
    }
   },
   "outputs": [
    {
     "data": {
      "text/plain": [
       "'$%&1Man is dead'"
      ]
     },
     "execution_count": 54,
     "metadata": {},
     "output_type": "execute_result"
    }
   ],
   "source": [
    "# überflüssige Leerzeichen:\n",
    "\n",
    "' '.join(headline.split())"
   ]
  },
  {
   "metadata": {
    "ExecuteTime": {
     "end_time": "2025-08-14T13:08:45.871927Z",
     "start_time": "2025-08-14T13:08:45.865513Z"
    }
   },
   "cell_type": "code",
   "source": [
    "headline_x = headline.rsplit()\n",
    "\n",
    "headline_x\n",
    "\n",
    "headline_xx = [wort.capitalize() for wort in headline_x]\n",
    "print(headline_xx)  # ['Hallo', 'Welt', 'Python']\n"
   ],
   "id": "c7e4ac41160cd831",
   "outputs": [
    {
     "name": "stdout",
     "output_type": "stream",
     "text": [
      "['$%&1man', 'Is', 'Dead$']\n"
     ]
    }
   ],
   "execution_count": 39
  }
 ],
 "metadata": {
  "kernelspec": {
   "display_name": "Python 3",
   "language": "python",
   "name": "python3"
  },
  "language_info": {
   "codemirror_mode": {
    "name": "ipython",
    "version": 2
   },
   "file_extension": ".py",
   "mimetype": "text/x-python",
   "name": "python",
   "nbconvert_exporter": "python",
   "pygments_lexer": "ipython2",
   "version": "2.7.6"
  }
 },
 "nbformat": 4,
 "nbformat_minor": 5
}

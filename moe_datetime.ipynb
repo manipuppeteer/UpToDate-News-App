{
 "cells": [
  {
   "cell_type": "code",
   "execution_count": null,
   "id": "bb223166",
   "metadata": {},
   "outputs": [],
   "source": [
    "import datetime\n",
    "jetzt = datetime.datetime.now()\n",
    "time = '2025-08-12T08:28:03Z'\n",
    "zeit_datetime = datetime.datetime.strptime(time, '%Y-%m-%dT%H:%M:%SZ')\n",
    "\n",
    "diff = jetzt - zeit_datetime\n",
    "seconds = diff.seconds\n",
    "\n",
    "hours = seconds//3600\n",
    "minutes = (seconds - hours*3600)//60\n",
    "hours, minutes"
   ]
  }
 ],
 "metadata": {
  "language_info": {
   "name": "python"
  }
 },
 "nbformat": 4,
 "nbformat_minor": 5
}

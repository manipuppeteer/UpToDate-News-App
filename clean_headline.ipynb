{
 "cells": [
  {
   "cell_type": "code",
   "execution_count": 8,
   "id": "c5485413",
   "metadata": {},
   "outputs": [],
   "source": [
    "headline = 'Man is       dead'"
   ]
  },
  {
   "cell_type": "code",
   "execution_count": 4,
   "id": "27ac9682",
   "metadata": {},
   "outputs": [
    {
     "data": {
      "text/plain": [
       "'Man is dead'"
      ]
     },
     "execution_count": 4,
     "metadata": {},
     "output_type": "execute_result"
    }
   ],
   "source": [
    "headline = headline.strip()\n",
    "headline"
   ]
  },
  {
   "cell_type": "code",
   "execution_count": 7,
   "id": "c552c15d",
   "metadata": {},
   "outputs": [
    {
     "data": {
      "text/plain": [
       "False"
      ]
     },
     "execution_count": 7,
     "metadata": {},
     "output_type": "execute_result"
    }
   ],
   "source": [
    "headline[0].isalpha()  # Check if the first character is an alphabetic character"
   ]
  },
  {
   "cell_type": "code",
   "execution_count": 11,
   "id": "80af54e6",
   "metadata": {},
   "outputs": [
    {
     "data": {
      "text/plain": [
       "'Man is dead'"
      ]
     },
     "execution_count": 11,
     "metadata": {},
     "output_type": "execute_result"
    }
   ],
   "source": [
    "' '.join(headline.split())"
   ]
  },
  {
   "cell_type": "code",
   "execution_count": null,
   "id": "8406a30f",
   "metadata": {},
   "outputs": [],
   "source": [
    "def clean_headline(headline):\n",
    "    headline = headline.strip()  # Remove leading and trailing whitespace\n",
    "    if not headline[0].isalpha():\n",
    "          headline = headline.replace(headline[0], '')#\n",
    "    headline = ' '.join(headline.split())  # Replace multiple spaces with a single space\n",
    "    return headline"
   ]
  },
  {
   "cell_type": "code",
   "execution_count": 12,
   "id": "811a9368",
   "metadata": {},
   "outputs": [
    {
     "data": {
      "text/plain": [
       "'Man is dead'"
      ]
     },
     "execution_count": 12,
     "metadata": {},
     "output_type": "execute_result"
    }
   ],
   "source": [
    "headline = '1Man is dead'\n",
    "headline = headline.replace('1','')\n",
    "headline"
   ]
  }
 ],
 "metadata": {
  "kernelspec": {
   "display_name": "Python 3",
   "language": "python",
   "name": "python3"
  },
  "language_info": {
   "codemirror_mode": {
    "name": "ipython",
    "version": 3
   },
   "file_extension": ".py",
   "mimetype": "text/x-python",
   "name": "python",
   "nbconvert_exporter": "python",
   "pygments_lexer": "ipython3",
   "version": "3.13.5"
  }
 },
 "nbformat": 4,
 "nbformat_minor": 5
}

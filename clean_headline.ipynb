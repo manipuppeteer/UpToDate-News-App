{
 "cells": [
  {
   "cell_type": "code",
   "id": "c5485413",
   "metadata": {
    "ExecuteTime": {
     "end_time": "2025-08-13T09:15:12.575483Z",
     "start_time": "2025-08-13T09:15:12.570995Z"
    }
   },
   "source": [
    "headline = 'Man is       dead'"
   ],
   "outputs": [],
   "execution_count": 4
  },
  {
   "cell_type": "code",
   "id": "27ac9682",
   "metadata": {
    "ExecuteTime": {
     "end_time": "2025-08-13T09:15:15.195853Z",
     "start_time": "2025-08-13T09:15:15.189961Z"
    }
   },
   "source": [
    "headline = headline.strip()\n",
    "headline"
   ],
   "outputs": [
    {
     "data": {
      "text/plain": [
       "'Man is       dead'"
      ]
     },
     "execution_count": 5,
     "metadata": {},
     "output_type": "execute_result"
    }
   ],
   "execution_count": 5
  },
  {
   "cell_type": "code",
   "id": "c552c15d",
   "metadata": {
    "ExecuteTime": {
     "end_time": "2025-08-13T08:59:49.778952Z",
     "start_time": "2025-08-13T08:59:49.772234Z"
    }
   },
   "source": [
    "headline[0].isalpha()  # Check if the first character is an alphabetic character"
   ],
   "outputs": [
    {
     "data": {
      "text/plain": [
       "True"
      ]
     },
     "execution_count": 3,
     "metadata": {},
     "output_type": "execute_result"
    }
   ],
   "execution_count": 3
  },
  {
   "cell_type": "code",
   "execution_count": 11,
   "id": "80af54e6",
   "metadata": {},
   "outputs": [
    {
     "data": {
      "text/plain": [
       "'Man is dead'"
      ]
     },
     "execution_count": 11,
     "metadata": {},
     "output_type": "execute_result"
    }
   ],
   "source": [
    "' '.join(headline.split())"
   ]
  },
  {
   "cell_type": "code",
   "execution_count": null,
   "id": "8406a30f",
   "metadata": {},
   "outputs": [],
   "source": [
    "def clean_headline(headline):\n",
    "    headline = headline.strip()  # Remove leading and trailing whitespace\n",
    "    if not headline[0].isalpha():\n",
    "          headline = headline.replace(headline[0], '')#\n",
    "    headline = ' '.join(headline.split())  # Replace multiple spaces with a single space\n",
    "    return headline"
   ]
  },
  {
   "cell_type": "code",
   "execution_count": 12,
   "id": "811a9368",
   "metadata": {},
   "outputs": [
    {
     "data": {
      "text/plain": [
       "'Man is dead'"
      ]
     },
     "execution_count": 12,
     "metadata": {},
     "output_type": "execute_result"
    }
   ],
   "source": [
    "headline = '1Man is dead'\n",
    "headline = headline.replace('1','')\n",
    "headline"
   ]
  }
 ],
 "metadata": {
  "kernelspec": {
   "display_name": "Python 3",
   "language": "python",
   "name": "python3"
  },
  "language_info": {
   "codemirror_mode": {
    "name": "ipython",
    "version": 3
   },
   "file_extension": ".py",
   "mimetype": "text/x-python",
   "name": "python",
   "nbconvert_exporter": "python",
   "pygments_lexer": "ipython3",
   "version": "3.13.5"
  }
 },
 "nbformat": 4,
 "nbformat_minor": 5
}

{
 "cells": [
  {
   "cell_type": "code",
   "execution_count": 97,
   "id": "1790f293",
   "metadata": {},
   "outputs": [
    {
     "name": "stdout",
     "output_type": "stream",
     "text": [
      "📰 Top Headlines:\n",
      "\n",
      "1. Trump says he will evict homeless from Washington DC - live updates - BBC\n",
      " https://ichef.bbci.co.uk/ace/branded_news/1200/cpsprodpb/de7e/live/a986f000-761c-11f0-8071-1788c7e8ae0e.jpg\n",
      "   Source: BBC News\n",
      "   URL: https://www.bbc.com/news/live/c6200xjp8g0t\n",
      "\n",
      "2. Judge denies release of Ghislaine Maxwell grand jury transcripts - NPR\n",
      " https://npr.brightspotcdn.com/dims3/default/strip/false/crop/2000x1125+0+185/resize/1400/quality/100/format/jpeg/?url=http%3A%2F%2Fnpr-brightspot.s3.amazonaws.com%2F28%2Fd9%2F4f6d4182464c9a6de1f76ddb666c%2Fap20317699988612.jpg\n",
      "   Source: NPR\n",
      "   URL: https://www.npr.org/2025/08/11/nx-s1-5492207/epstein-maxwell-grand-jury-transcripts\n",
      "\n",
      "3. Tua Tagovailoa sees the good in bad joint practice performance with the Bears - NBC Sports\n",
      " https://nbcsports.brightspotcdn.com/dims4/default/c24e9fb/2147483647/strip/true/crop/3906x2197+0+0/resize/1440x810!/quality/90/?url=https%3A%2F%2Fnbc-sports-production-nbc-sports.s3.us-east-1.amazonaws.com%2Fbrightspot%2Fc5%2Fbe%2F287f82194020bbbf8de3b19e8aa2%2Fhttps-api-imagn.com%2Frest%2Fdownload%2FimageID%3D26821188\n",
      "   Source: NBCSports.com\n",
      "   URL: https://www.nbcsports.com/nfl/profootballtalk/rumor-mill/news/tua-tagovailoa-sees-the-good-in-bad-joint-practice-performance-with-the-bears\n",
      "\n",
      "4. Jennifer Aniston Shares Rare Comments About ‘Love Triangle’ Years with Brad Pitt & Angelina Jolie, Reveals Her Closest Celeb Friends, & a Statement About Matthew Perry - Just Jared\n",
      " https://cdn01.justjared.com/wp-content/uploads/headlines/2025/08/jennifer-aniston-love-triangle-years1.jpg\n",
      "   Source: Just Jared\n",
      "   URL: https://www.justjared.com/2025/08/11/jennifer-aniston-shares-rare-comments-about-love-triangle-years-with-brad-pitt-angelina-jolie-reveals-her-closest-celeb-friends-a-statement-about-matthew-perry/\n",
      "\n",
      "5. Tributes, condemnation pour in over slain Al Jazeera journalists in Gaza - Al Jazeera\n",
      " https://www.aljazeera.com/wp-content/uploads/2025/08/1000044491-1-1754893767.jpg?resize=1200%2C630\n",
      "   Source: Al Jazeera English\n",
      "   URL: https://www.aljazeera.com/news/2025/8/11/tributes-condemnation-pour-in-for-slain-al-jazeera-journalists-in-gaza\n",
      "\n"
     ]
    }
   ],
   "source": [
    "import requests\n",
    "\n",
    "API_KEY = '65a1067c0a4c410da9cc3b924e29f347'\n",
    "url = 'https://newsapi.org/v2/top-headlines'\n",
    "params = {\n",
    "    'apiKey': API_KEY,\n",
    "    'language': 'en'  # or 'de' for German\n",
    "}\n",
    "\n",
    "response = requests.get(url, params=params)\n",
    "if response.status_code == 200:\n",
    "    data = response.json()\n",
    "    articles = data.get('articles', [])\n",
    "\n",
    "    print(\"📰 Top Headlines:\\n\")\n",
    "    for i, article in enumerate(articles[:5], 1):  # top 5\n",
    "        print(f\"{i}. {article['title']}\")\n",
    "        print(f\" {article['urlToImage']}\")\n",
    "        print(f\"   Source: {article['source']['name']}\")\n",
    "        print(f\"   URL: {article['url']}\\n\")\n",
    "else:\n",
    "    print(\"Failed to fetch news:\", response.status_code)\n"
   ]
  },
  {
   "cell_type": "code",
   "execution_count": 1,
   "id": "25493721",
   "metadata": {},
   "outputs": [
    {
     "name": "stdout",
     "output_type": "stream",
     "text": [
      "Collecting newsapi-python\n",
      "  Downloading newsapi_python-0.2.7-py2.py3-none-any.whl (7.9 kB)\n",
      "Requirement already satisfied: requests<3.0.0 in c:\\users\\admin\\miniconda3\\lib\\site-packages (from newsapi-python) (2.29.0)\n",
      "Requirement already satisfied: charset-normalizer<4,>=2 in c:\\users\\admin\\miniconda3\\lib\\site-packages (from requests<3.0.0->newsapi-python) (2.0.4)\n",
      "Requirement already satisfied: idna<4,>=2.5 in c:\\users\\admin\\miniconda3\\lib\\site-packages (from requests<3.0.0->newsapi-python) (3.4)\n",
      "Requirement already satisfied: urllib3<1.27,>=1.21.1 in c:\\users\\admin\\miniconda3\\lib\\site-packages (from requests<3.0.0->newsapi-python) (1.26.16)\n",
      "Requirement already satisfied: certifi>=2017.4.17 in c:\\users\\admin\\miniconda3\\lib\\site-packages (from requests<3.0.0->newsapi-python) (2025.8.3)\n",
      "Installing collected packages: newsapi-python\n",
      "Successfully installed newsapi-python-0.2.7\n"
     ]
    },
    {
     "ename": "ImportError",
     "evalue": "cannot import name 'NewsApiClient' from 'newsapi' (c:\\Users\\Admin\\Documents\\Python-Data-Analytics-Project\\newsapi.py)",
     "output_type": "error",
     "traceback": [
      "\u001b[31m---------------------------------------------------------------------------\u001b[39m",
      "\u001b[31mImportError\u001b[39m                               Traceback (most recent call last)",
      "\u001b[36mCell\u001b[39m\u001b[36m \u001b[39m\u001b[32mIn[1]\u001b[39m\u001b[32m, line 2\u001b[39m\n\u001b[32m      1\u001b[39m get_ipython().system(\u001b[33m'\u001b[39m\u001b[33mpip install newsapi-python\u001b[39m\u001b[33m'\u001b[39m)\n\u001b[32m----> \u001b[39m\u001b[32m2\u001b[39m \u001b[38;5;28;01mfrom\u001b[39;00m\u001b[38;5;250m \u001b[39m\u001b[34;01mnewsapi\u001b[39;00m\u001b[38;5;250m \u001b[39m\u001b[38;5;28;01mimport\u001b[39;00m NewsApiClient\n",
      "\u001b[31mImportError\u001b[39m: cannot import name 'NewsApiClient' from 'newsapi' (c:\\Users\\Admin\\Documents\\Python-Data-Analytics-Project\\newsapi.py)"
     ]
    }
   ],
   "source": [
    "!pip install newsapi-python\n",
    "from newsapi import NewsApiClient"
   ]
  },
  {
   "cell_type": "code",
   "execution_count": 45,
   "id": "c78d4105",
   "metadata": {},
   "outputs": [
    {
     "data": {
      "text/plain": [
       "{'source': {'id': 'abc-news', 'name': 'ABC News'},\n",
       " 'author': 'ABC News',\n",
       " 'title': 'Jim Lovell, commander of Apollo 13 mission, dies at 97 - ABC News',\n",
       " 'description': None,\n",
       " 'url': 'https://abcnews.go.com/US/jim-lovell-commander-apollo-13-mission-dies-97/story?id\\\\\\\\u003d124492321',\n",
       " 'urlToImage': None,\n",
       " 'publishedAt': '2025-08-10T08:28:03Z',\n",
       " 'content': None}"
      ]
     },
     "execution_count": 45,
     "metadata": {},
     "output_type": "execute_result"
    }
   ],
   "source": [
    "data['articles'][0]"
   ]
  },
  {
   "cell_type": "code",
   "execution_count": 4,
   "id": "9fa5a4ba",
   "metadata": {},
   "outputs": [
    {
     "data": {
      "text/plain": [
       "'CBS Sports releases Preseason AP Poll Top 25 prediction ahead of 2025 college football season - On3'"
      ]
     },
     "execution_count": 4,
     "metadata": {},
     "output_type": "execute_result"
    }
   ],
   "source": [
    "articles[0]['title']"
   ]
  },
  {
   "cell_type": "code",
   "execution_count": 6,
   "id": "2fb21367",
   "metadata": {},
   "outputs": [
    {
     "data": {
      "text/plain": [
       "{'source': {'id': None, 'name': 'On3.com'},\n",
       " 'author': 'Nick Kosko',\n",
       " 'title': 'CBS Sports releases Preseason AP Poll Top 25 prediction ahead of 2025 college football season - On3',\n",
       " 'description': '.',\n",
       " 'url': 'https://www.on3.com/news/cbs-sports-releases-preseason-ap-poll-top-25-prediction-ahead-of-2025-college-football-season/',\n",
       " 'urlToImage': 'https://on3static.com/uploads/dev/assets/cms/2025/08/10140805/preseason-Top-25-afi.png',\n",
       " 'publishedAt': '2025-08-10T20:39:07Z',\n",
       " 'content': 'CBS Sports released its preseason AP Poll Top 25 predictions ahead of the 2025 college football season. We are this close to real football!\\r\\nThis wont be an exact ranking of all 25 teams in the poll,… [+4238 chars]'}"
      ]
     },
     "execution_count": 6,
     "metadata": {},
     "output_type": "execute_result"
    }
   ],
   "source": [
    "article = articles[0]\n",
    "article"
   ]
  },
  {
   "cell_type": "code",
   "execution_count": 7,
   "id": "bf798970",
   "metadata": {},
   "outputs": [
    {
     "data": {
      "text/plain": [
       "'On3.com'"
      ]
     },
     "execution_count": 7,
     "metadata": {},
     "output_type": "execute_result"
    }
   ],
   "source": [
    "source = article['source']['name']\n",
    "source"
   ]
  },
  {
   "cell_type": "code",
   "execution_count": 89,
   "id": "89161f0b",
   "metadata": {},
   "outputs": [
    {
     "ename": "HTTPError",
     "evalue": "403 Client Error: Forbidden for url: https://www.politico.com/dims4/default/resize/1200/quality/90/format/jpg?url=https%3A%2F%2Fstatic.politico.com%2Fae%2Fe1%2F821599e5456695c6fabf4b9bc312%2Fu-s-congress-72617.jpg",
     "output_type": "error",
     "traceback": [
      "\u001b[31m---------------------------------------------------------------------------\u001b[39m",
      "\u001b[31mHTTPError\u001b[39m                                 Traceback (most recent call last)",
      "\u001b[36mCell\u001b[39m\u001b[36m \u001b[39m\u001b[32mIn[89]\u001b[39m\u001b[32m, line 3\u001b[39m\n\u001b[32m      1\u001b[39m imgurl = \u001b[33m'\u001b[39m\u001b[33mhttps://www.politico.com/dims4/default/resize/1200/quality/90/format/jpg?url=https\u001b[39m\u001b[33m%\u001b[39m\u001b[33m3A\u001b[39m\u001b[38;5;132;01m%2F\u001b[39;00m\u001b[38;5;132;01m%2F\u001b[39;00m\u001b[33mstatic.politico.com\u001b[39m\u001b[38;5;132;01m%2F\u001b[39;00m\u001b[33mae\u001b[39m\u001b[38;5;132;01m%2F\u001b[39;00m\u001b[33me1\u001b[39m\u001b[38;5;132;01m%2F\u001b[39;00m\u001b[33m821599e5456695c6fabf4b9bc312\u001b[39m\u001b[38;5;132;01m%2F\u001b[39;00m\u001b[33mu-s-congress-72617.jpg\u001b[39m\u001b[33m'\u001b[39m\n\u001b[32m      2\u001b[39m r = requests.get(imgurl, timeout=\u001b[32m6\u001b[39m)\n\u001b[32m----> \u001b[39m\u001b[32m3\u001b[39m \u001b[43mr\u001b[49m\u001b[43m.\u001b[49m\u001b[43mraise_for_status\u001b[49m\u001b[43m(\u001b[49m\u001b[43m)\u001b[49m\n\u001b[32m      4\u001b[39m im = Image.open(BytesIO(r.content))\n",
      "\u001b[36mFile \u001b[39m\u001b[32mc:\\Users\\Admin\\miniconda3\\Lib\\site-packages\\requests\\models.py:1021\u001b[39m, in \u001b[36mResponse.raise_for_status\u001b[39m\u001b[34m(self)\u001b[39m\n\u001b[32m   1016\u001b[39m     http_error_msg = (\n\u001b[32m   1017\u001b[39m         \u001b[33mf\u001b[39m\u001b[33m\"\u001b[39m\u001b[38;5;132;01m{\u001b[39;00m\u001b[38;5;28mself\u001b[39m.status_code\u001b[38;5;132;01m}\u001b[39;00m\u001b[33m Server Error: \u001b[39m\u001b[38;5;132;01m{\u001b[39;00mreason\u001b[38;5;132;01m}\u001b[39;00m\u001b[33m for url: \u001b[39m\u001b[38;5;132;01m{\u001b[39;00m\u001b[38;5;28mself\u001b[39m.url\u001b[38;5;132;01m}\u001b[39;00m\u001b[33m\"\u001b[39m\n\u001b[32m   1018\u001b[39m     )\n\u001b[32m   1020\u001b[39m \u001b[38;5;28;01mif\u001b[39;00m http_error_msg:\n\u001b[32m-> \u001b[39m\u001b[32m1021\u001b[39m     \u001b[38;5;28;01mraise\u001b[39;00m HTTPError(http_error_msg, response=\u001b[38;5;28mself\u001b[39m)\n",
      "\u001b[31mHTTPError\u001b[39m: 403 Client Error: Forbidden for url: https://www.politico.com/dims4/default/resize/1200/quality/90/format/jpg?url=https%3A%2F%2Fstatic.politico.com%2Fae%2Fe1%2F821599e5456695c6fabf4b9bc312%2Fu-s-congress-72617.jpg"
     ]
    }
   ],
   "source": [
    "imgurl = 'https://www.politico.com/dims4/default/resize/1200/quality/90/format/jpg?url=https%3A%2F%2Fstatic.politico.com%2Fae%2Fe1%2F821599e5456695c6fabf4b9bc312%2Fu-s-congress-72617.jpg'\n",
    "r = requests.get(imgurl, timeout=6)\n",
    "r.raise_for_status()\n",
    "im = Image.open(BytesIO(r.content))\n"
   ]
  },
  {
   "cell_type": "code",
   "execution_count": 92,
   "id": "31f45d71",
   "metadata": {},
   "outputs": [
    {
     "ename": "ModuleNotFoundError",
     "evalue": "No module named 'PIL'",
     "output_type": "error",
     "traceback": [
      "\u001b[31m---------------------------------------------------------------------------\u001b[39m",
      "\u001b[31mModuleNotFoundError\u001b[39m                       Traceback (most recent call last)",
      "\u001b[36mCell\u001b[39m\u001b[36m \u001b[39m\u001b[32mIn[92]\u001b[39m\u001b[32m, line 2\u001b[39m\n\u001b[32m      1\u001b[39m \u001b[38;5;28;01mimport\u001b[39;00m\u001b[38;5;250m \u001b[39m\u001b[34;01mrequests\u001b[39;00m\n\u001b[32m----> \u001b[39m\u001b[32m2\u001b[39m \u001b[38;5;28;01mimport\u001b[39;00m\u001b[38;5;250m \u001b[39m\u001b[34;01mPIL\u001b[39;00m\n\u001b[32m      3\u001b[39m \u001b[38;5;28;01mfrom\u001b[39;00m\u001b[38;5;250m \u001b[39m\u001b[34;01mPIL\u001b[39;00m\u001b[38;5;250m \u001b[39m\u001b[38;5;28;01mimport\u001b[39;00m Image\n\u001b[32m      4\u001b[39m \u001b[38;5;28;01mfrom\u001b[39;00m\u001b[38;5;250m \u001b[39m\u001b[34;01mio\u001b[39;00m\u001b[38;5;250m \u001b[39m\u001b[38;5;28;01mimport\u001b[39;00m BytesIO\n",
      "\u001b[31mModuleNotFoundError\u001b[39m: No module named 'PIL'"
     ]
    }
   ],
   "source": [
    "import requests\n",
    "import PIL\n",
    "from PIL import Image\n",
    "from io import BytesIO\n",
    "\n",
    "imgurl = 'https://www.politico.com/dims4/default/resize/1200/quality/90/format/jpg?url=https%3A%2F%2Fstatic.politico.com%2Fae%2Fe1%2F821599e5456695c6fabf4b9bc312%2Fu-s-congress-72617.jpg'\n",
    "\n",
    "headers = {\n",
    "    'User-Agent': 'Mozilla/5.0 (Windows NT 10.0; Win64; x64) AppleWebKit/537.36 (KHTML, like Gecko)'\n",
    "                  ' Chrome/115.0 Safari/537.36'\n",
    "}\n",
    "\n",
    "r = requests.get(imgurl, headers=headers, timeout=6)\n",
    "r.raise_for_status()\n",
    "im = Image.open(BytesIO(r.content))\n",
    "im.show()  # or save/display your image\n"
   ]
  },
  {
   "cell_type": "code",
   "execution_count": 11,
   "id": "712e0888",
   "metadata": {},
   "outputs": [
    {
     "data": {
      "text/plain": [
       "['CBS Sports releases Preseason AP Poll Top 25 prediction ahead of 2025 college football season ',\n",
       " ' On3']"
      ]
     },
     "execution_count": 11,
     "metadata": {},
     "output_type": "execute_result"
    }
   ],
   "source": [
    "article['title'].split('-')"
   ]
  },
  {
   "cell_type": "code",
   "execution_count": 13,
   "id": "aa500f2b",
   "metadata": {},
   "outputs": [
    {
     "data": {
      "text/plain": [
       "'CBS Sports releases Preseason AP Poll Top 25 prediction ahead of 2025 college football season'"
      ]
     },
     "execution_count": 13,
     "metadata": {},
     "output_type": "execute_result"
    }
   ],
   "source": [
    "article['title'].split('-')[0].strip()"
   ]
  },
  {
   "cell_type": "code",
   "execution_count": 17,
   "id": "4fa2cf48",
   "metadata": {},
   "outputs": [
    {
     "data": {
      "text/plain": [
       "['my ', ' name ', ' is ', ' Mani']"
      ]
     },
     "execution_count": 17,
     "metadata": {},
     "output_type": "execute_result"
    }
   ],
   "source": [
    "string = 'my - name - is - Mani'\n",
    "teile = string.split('-')\n",
    "teile"
   ]
  },
  {
   "cell_type": "code",
   "execution_count": 16,
   "id": "20c0f168",
   "metadata": {},
   "outputs": [
    {
     "data": {
      "text/plain": [
       "'my  name  is '"
      ]
     },
     "execution_count": 16,
     "metadata": {},
     "output_type": "execute_result"
    }
   ],
   "source": [
    "''.join(teile[:-1])"
   ]
  },
  {
   "cell_type": "code",
   "execution_count": null,
   "id": "2ca947f0",
   "metadata": {},
   "outputs": [],
   "source": [
    "time = '2025-08-12T08:28:03Z'\n",
    "zeit_datetime = datetime.datetime.strptime(time, '%Y-%m-%dT%H:%M:%SZ')\n",
    "\n",
    "diff = jetzt - zeit_datetime\n",
    "seconds = diff.seconds\n",
    "\n",
    "hours = seconds//3600\n",
    "minutes = (seconds - hours*3600)//60\n",
    "hours, minutes"
   ]
  },
  {
   "cell_type": "code",
   "execution_count": 37,
   "id": "a4b4f87d",
   "metadata": {},
   "outputs": [
    {
     "data": {
      "text/plain": [
       "str"
      ]
     },
     "execution_count": 37,
     "metadata": {},
     "output_type": "execute_result"
    }
   ],
   "source": [
    "type(zeit)"
   ]
  },
  {
   "cell_type": "code",
   "execution_count": 39,
   "id": "7d2fb909",
   "metadata": {},
   "outputs": [
    {
     "data": {
      "text/plain": [
       "datetime.datetime(2025, 8, 12, 13, 49, 12, 5034)"
      ]
     },
     "execution_count": 39,
     "metadata": {},
     "output_type": "execute_result"
    }
   ],
   "source": [
    "import datetime\n",
    "jetzt = datetime.datetime.now()\n",
    "jetzt"
   ]
  },
  {
   "cell_type": "code",
   "execution_count": 40,
   "id": "4deaeecc",
   "metadata": {},
   "outputs": [
    {
     "data": {
      "text/plain": [
       "datetime.datetime"
      ]
     },
     "execution_count": 40,
     "metadata": {},
     "output_type": "execute_result"
    }
   ],
   "source": [
    "type(jetzt)"
   ]
  },
  {
   "cell_type": "code",
   "execution_count": 41,
   "id": "ab999b7d",
   "metadata": {},
   "outputs": [
    {
     "ename": "TypeError",
     "evalue": "unsupported operand type(s) for -: 'datetime.datetime' and 'str'",
     "output_type": "error",
     "traceback": [
      "\u001b[31m---------------------------------------------------------------------------\u001b[39m",
      "\u001b[31mTypeError\u001b[39m                                 Traceback (most recent call last)",
      "\u001b[36mCell\u001b[39m\u001b[36m \u001b[39m\u001b[32mIn[41]\u001b[39m\u001b[32m, line 1\u001b[39m\n\u001b[32m----> \u001b[39m\u001b[32m1\u001b[39m \u001b[43mjetzt\u001b[49m\u001b[43m \u001b[49m\u001b[43m-\u001b[49m\u001b[43m \u001b[49m\u001b[43mzeit\u001b[49m\n",
      "\u001b[31mTypeError\u001b[39m: unsupported operand type(s) for -: 'datetime.datetime' and 'str'"
     ]
    }
   ],
   "source": [
    "jetzt - zeit"
   ]
  },
  {
   "cell_type": "code",
   "execution_count": 70,
   "id": "5b187df4",
   "metadata": {},
   "outputs": [
    {
     "ename": "ModuleNotFoundError",
     "evalue": "No module named 'bs4'",
     "output_type": "error",
     "traceback": [
      "\u001b[31m---------------------------------------------------------------------------\u001b[39m",
      "\u001b[31mModuleNotFoundError\u001b[39m                       Traceback (most recent call last)",
      "\u001b[36mCell\u001b[39m\u001b[36m \u001b[39m\u001b[32mIn[70]\u001b[39m\u001b[32m, line 1\u001b[39m\n\u001b[32m----> \u001b[39m\u001b[32m1\u001b[39m \u001b[38;5;28;01mimport\u001b[39;00m\u001b[38;5;250m \u001b[39m\u001b[34;01mbs4\u001b[39;00m\n",
      "\u001b[31mModuleNotFoundError\u001b[39m: No module named 'bs4'"
     ]
    }
   ],
   "source": [
    "import bs4"
   ]
  },
  {
   "cell_type": "code",
   "execution_count": 43,
   "id": "b636f658",
   "metadata": {},
   "outputs": [
    {
     "data": {
      "text/plain": [
       "'08:28:03Z'"
      ]
     },
     "execution_count": 43,
     "metadata": {},
     "output_type": "execute_result"
    }
   ],
   "source": [
    "zeit"
   ]
  },
  {
   "cell_type": "code",
   "execution_count": 48,
   "id": "d228ba51",
   "metadata": {},
   "outputs": [
    {
     "data": {
      "text/plain": [
       "'08:28:03'"
      ]
     },
     "execution_count": 48,
     "metadata": {},
     "output_type": "execute_result"
    }
   ],
   "source": [
    "zeit = zeit.replace('Z', '')\n",
    "zeit"
   ]
  },
  {
   "cell_type": "code",
   "execution_count": 51,
   "id": "fd929a34",
   "metadata": {},
   "outputs": [
    {
     "data": {
      "text/plain": [
       "(datetime.datetime, datetime.datetime)"
      ]
     },
     "execution_count": 51,
     "metadata": {},
     "output_type": "execute_result"
    }
   ],
   "source": [
    "zeit_datetime = datetime.datetime.strptime(zeit, '%H:%M:%S')\n",
    "type(zeit_datetime), type(jetzt)"
   ]
  },
  {
   "cell_type": "code",
   "execution_count": 52,
   "id": "c0847c02",
   "metadata": {},
   "outputs": [
    {
     "data": {
      "text/plain": [
       "datetime.timedelta(days=45879, seconds=19269, microseconds=5034)"
      ]
     },
     "execution_count": 52,
     "metadata": {},
     "output_type": "execute_result"
    }
   ],
   "source": [
    "jetzt - zeit_datetime"
   ]
  }
 ],
 "metadata": {
  "kernelspec": {
   "display_name": "base",
   "language": "python",
   "name": "python3"
  },
  "language_info": {
   "codemirror_mode": {
    "name": "ipython",
    "version": 3
   },
   "file_extension": ".py",
   "mimetype": "text/x-python",
   "name": "python",
   "nbconvert_exporter": "python",
   "pygments_lexer": "ipython3",
   "version": "3.11.4"
  }
 },
 "nbformat": 4,
 "nbformat_minor": 5
}
